{
  "nbformat": 4,
  "nbformat_minor": 0,
  "metadata": {
    "colab": {
      "provenance": [],
      "authorship_tag": "ABX9TyMXzMrz3h11FOINckP3axMh",
      "include_colab_link": true
    },
    "kernelspec": {
      "name": "python3",
      "display_name": "Python 3"
    },
    "language_info": {
      "name": "python"
    }
  },
  "cells": [
    {
      "cell_type": "markdown",
      "metadata": {
        "id": "view-in-github",
        "colab_type": "text"
      },
      "source": [
        "<a href=\"https://colab.research.google.com/github/minitabhatt/min-s_portfolio.github.io/blob/main/Breath2310.ipynb\" target=\"_parent\"><img src=\"https://colab.research.google.com/assets/colab-badge.svg\" alt=\"Open In Colab\"/></a>"
      ]
    },
    {
      "cell_type": "code",
      "execution_count": 62,
      "metadata": {
        "colab": {
          "base_uri": "https://localhost:8080/"
        },
        "id": "e3JnOZlekGjN",
        "outputId": "74dfd672-91bf-444d-9774-cf99ba1231cd"
      },
      "outputs": [
        {
          "output_type": "stream",
          "name": "stdout",
          "text": [
            "Requirement already satisfied: virtualenv in /usr/local/lib/python3.10/dist-packages (20.27.0)\n",
            "Requirement already satisfied: distlib<1,>=0.3.7 in /usr/local/lib/python3.10/dist-packages (from virtualenv) (0.3.9)\n",
            "Requirement already satisfied: filelock<4,>=3.12.2 in /usr/local/lib/python3.10/dist-packages (from virtualenv) (3.16.1)\n",
            "Requirement already satisfied: platformdirs<5,>=3.9.1 in /usr/local/lib/python3.10/dist-packages (from virtualenv) (4.3.6)\n"
          ]
        }
      ],
      "source": [
        "!pip install virtualenv"
      ]
    },
    {
      "cell_type": "code",
      "source": [
        "!virtualenv myenv"
      ],
      "metadata": {
        "colab": {
          "base_uri": "https://localhost:8080/"
        },
        "id": "jBA1cXr0kgmg",
        "outputId": "c05d1bd0-72a2-4b93-f047-23fdcd3b21aa"
      },
      "execution_count": 63,
      "outputs": [
        {
          "output_type": "stream",
          "name": "stdout",
          "text": [
            "created virtual environment CPython3.10.12.final.0-64 in 531ms\n",
            "  creator CPython3Posix(dest=/content/myenv, clear=False, no_vcs_ignore=False, global=False)\n",
            "  seeder FromAppData(download=False, pip=bundle, setuptools=bundle, wheel=bundle, via=copy, app_data_dir=/root/.local/share/virtualenv)\n",
            "    added seed packages: GitPython==3.1.43, MarkupSafe==3.0.2, Pillow==9.5.0, Pympler==1.1, altair==5.4.1, attrs==24.2.0, blinker==1.8.2, cachetools==5.5.0, certifi==2024.8.30, charset_normalizer==3.4.0, click==8.1.7, gitdb==4.0.11, idna==3.10, importlib_metadata==6.11.0, jinja2==3.1.4, joblib==1.4.2, jsonschema==4.23.0, jsonschema_specifications==2024.10.1, markdown_it_py==3.0.0, mdurl==0.1.2, narwhals==1.10.0, ngrok==1.4.0, numpy==1.25.0, packaging==23.2, pandas==2.1.0, pip==24.2, protobuf==4.25.5, pyarrow==17.0.0, pydeck==0.9.1, pygments==2.18.0, python_dateutil==2.9.0.post0, pytz==2024.2, pytz_deprecation_shim==0.1.0.post0, referencing==0.35.1, requests==2.32.3, rich==13.9.3, rpds_py==0.20.0, scikit_learn==1.3.0, scipy==1.14.1, setuptools==75.2.0, six==1.16.0, smmap==5.0.1, streamlit==1.24.0, tenacity==8.5.0, threadpoolctl==3.5.0, toml==0.10.2, tornado==6.4.1, typing_extensions==4.12.2, tzdata==2024.2, tzlocal==4.3.1, urllib3==2.2.3, validators==0.34.0, watchdog==5.0.3, wheel==0.44.0, zipp==3.20.2\n",
            "  activators BashActivator,CShellActivator,FishActivator,NushellActivator,PowerShellActivator,PythonActivator\n"
          ]
        }
      ]
    },
    {
      "cell_type": "code",
      "source": [
        "!source myenv/bin/activate"
      ],
      "metadata": {
        "id": "tw3sCfv3kmJW"
      },
      "execution_count": 64,
      "outputs": []
    },
    {
      "cell_type": "code",
      "source": [
        "!myenv/bin/pip install numpy==1.25.0 pandas==2.1.0 scikit-learn==1.3.0 streamlit==1.24.0 ngrok"
      ],
      "metadata": {
        "colab": {
          "base_uri": "https://localhost:8080/"
        },
        "id": "4XpHIZ2akt4G",
        "outputId": "2f05cd10-79b4-4986-a889-ea17045d33ec"
      },
      "execution_count": 65,
      "outputs": [
        {
          "output_type": "stream",
          "name": "stdout",
          "text": [
            "Requirement already satisfied: numpy==1.25.0 in ./myenv/lib/python3.10/site-packages (1.25.0)\n",
            "Requirement already satisfied: pandas==2.1.0 in ./myenv/lib/python3.10/site-packages (2.1.0)\n",
            "Requirement already satisfied: scikit-learn==1.3.0 in ./myenv/lib/python3.10/site-packages (1.3.0)\n",
            "Requirement already satisfied: streamlit==1.24.0 in ./myenv/lib/python3.10/site-packages (1.24.0)\n",
            "Requirement already satisfied: ngrok in ./myenv/lib/python3.10/site-packages (1.4.0)\n",
            "Requirement already satisfied: python-dateutil>=2.8.2 in ./myenv/lib/python3.10/site-packages (from pandas==2.1.0) (2.9.0.post0)\n",
            "Requirement already satisfied: pytz>=2020.1 in ./myenv/lib/python3.10/site-packages (from pandas==2.1.0) (2024.2)\n",
            "Requirement already satisfied: tzdata>=2022.1 in ./myenv/lib/python3.10/site-packages (from pandas==2.1.0) (2024.2)\n",
            "Requirement already satisfied: scipy>=1.5.0 in ./myenv/lib/python3.10/site-packages (from scikit-learn==1.3.0) (1.14.1)\n",
            "Requirement already satisfied: joblib>=1.1.1 in ./myenv/lib/python3.10/site-packages (from scikit-learn==1.3.0) (1.4.2)\n",
            "Requirement already satisfied: threadpoolctl>=2.0.0 in ./myenv/lib/python3.10/site-packages (from scikit-learn==1.3.0) (3.5.0)\n",
            "Requirement already satisfied: altair<6,>=4.0 in ./myenv/lib/python3.10/site-packages (from streamlit==1.24.0) (5.4.1)\n",
            "Requirement already satisfied: blinker<2,>=1.0.0 in ./myenv/lib/python3.10/site-packages (from streamlit==1.24.0) (1.8.2)\n",
            "Requirement already satisfied: cachetools<6,>=4.0 in ./myenv/lib/python3.10/site-packages (from streamlit==1.24.0) (5.5.0)\n",
            "Requirement already satisfied: click<9,>=7.0 in ./myenv/lib/python3.10/site-packages (from streamlit==1.24.0) (8.1.7)\n",
            "Requirement already satisfied: importlib-metadata<7,>=1.4 in ./myenv/lib/python3.10/site-packages (from streamlit==1.24.0) (6.11.0)\n",
            "Requirement already satisfied: packaging<24,>=14.1 in ./myenv/lib/python3.10/site-packages (from streamlit==1.24.0) (23.2)\n",
            "Requirement already satisfied: pillow<10,>=6.2.0 in ./myenv/lib/python3.10/site-packages (from streamlit==1.24.0) (9.5.0)\n",
            "Requirement already satisfied: protobuf<5,>=3.20 in ./myenv/lib/python3.10/site-packages (from streamlit==1.24.0) (4.25.5)\n",
            "Requirement already satisfied: pyarrow>=4.0 in ./myenv/lib/python3.10/site-packages (from streamlit==1.24.0) (17.0.0)\n",
            "Requirement already satisfied: pympler<2,>=0.9 in ./myenv/lib/python3.10/site-packages (from streamlit==1.24.0) (1.1)\n",
            "Requirement already satisfied: requests<3,>=2.4 in ./myenv/lib/python3.10/site-packages (from streamlit==1.24.0) (2.32.3)\n",
            "Requirement already satisfied: rich<14,>=10.11.0 in ./myenv/lib/python3.10/site-packages (from streamlit==1.24.0) (13.9.3)\n",
            "Requirement already satisfied: tenacity<9,>=8.0.0 in ./myenv/lib/python3.10/site-packages (from streamlit==1.24.0) (8.5.0)\n",
            "Requirement already satisfied: toml<2 in ./myenv/lib/python3.10/site-packages (from streamlit==1.24.0) (0.10.2)\n",
            "Requirement already satisfied: typing-extensions<5,>=4.0.1 in ./myenv/lib/python3.10/site-packages (from streamlit==1.24.0) (4.12.2)\n",
            "Requirement already satisfied: tzlocal<5,>=1.1 in ./myenv/lib/python3.10/site-packages (from streamlit==1.24.0) (4.3.1)\n",
            "Requirement already satisfied: validators<1,>=0.2 in ./myenv/lib/python3.10/site-packages (from streamlit==1.24.0) (0.34.0)\n",
            "Requirement already satisfied: gitpython!=3.1.19,<4,>=3 in ./myenv/lib/python3.10/site-packages (from streamlit==1.24.0) (3.1.43)\n",
            "Requirement already satisfied: pydeck<1,>=0.1.dev5 in ./myenv/lib/python3.10/site-packages (from streamlit==1.24.0) (0.9.1)\n",
            "Requirement already satisfied: tornado<7,>=6.0.3 in ./myenv/lib/python3.10/site-packages (from streamlit==1.24.0) (6.4.1)\n",
            "Requirement already satisfied: watchdog in ./myenv/lib/python3.10/site-packages (from streamlit==1.24.0) (5.0.3)\n",
            "Requirement already satisfied: jinja2 in ./myenv/lib/python3.10/site-packages (from altair<6,>=4.0->streamlit==1.24.0) (3.1.4)\n",
            "Requirement already satisfied: jsonschema>=3.0 in ./myenv/lib/python3.10/site-packages (from altair<6,>=4.0->streamlit==1.24.0) (4.23.0)\n",
            "Requirement already satisfied: narwhals>=1.5.2 in ./myenv/lib/python3.10/site-packages (from altair<6,>=4.0->streamlit==1.24.0) (1.10.0)\n",
            "Requirement already satisfied: gitdb<5,>=4.0.1 in ./myenv/lib/python3.10/site-packages (from gitpython!=3.1.19,<4,>=3->streamlit==1.24.0) (4.0.11)\n",
            "Requirement already satisfied: zipp>=0.5 in ./myenv/lib/python3.10/site-packages (from importlib-metadata<7,>=1.4->streamlit==1.24.0) (3.20.2)\n",
            "Requirement already satisfied: six>=1.5 in ./myenv/lib/python3.10/site-packages (from python-dateutil>=2.8.2->pandas==2.1.0) (1.16.0)\n",
            "Requirement already satisfied: charset-normalizer<4,>=2 in ./myenv/lib/python3.10/site-packages (from requests<3,>=2.4->streamlit==1.24.0) (3.4.0)\n",
            "Requirement already satisfied: idna<4,>=2.5 in ./myenv/lib/python3.10/site-packages (from requests<3,>=2.4->streamlit==1.24.0) (3.10)\n",
            "Requirement already satisfied: urllib3<3,>=1.21.1 in ./myenv/lib/python3.10/site-packages (from requests<3,>=2.4->streamlit==1.24.0) (2.2.3)\n",
            "Requirement already satisfied: certifi>=2017.4.17 in ./myenv/lib/python3.10/site-packages (from requests<3,>=2.4->streamlit==1.24.0) (2024.8.30)\n",
            "Requirement already satisfied: markdown-it-py>=2.2.0 in ./myenv/lib/python3.10/site-packages (from rich<14,>=10.11.0->streamlit==1.24.0) (3.0.0)\n",
            "Requirement already satisfied: pygments<3.0.0,>=2.13.0 in ./myenv/lib/python3.10/site-packages (from rich<14,>=10.11.0->streamlit==1.24.0) (2.18.0)\n",
            "Requirement already satisfied: pytz-deprecation-shim in ./myenv/lib/python3.10/site-packages (from tzlocal<5,>=1.1->streamlit==1.24.0) (0.1.0.post0)\n",
            "Requirement already satisfied: smmap<6,>=3.0.1 in ./myenv/lib/python3.10/site-packages (from gitdb<5,>=4.0.1->gitpython!=3.1.19,<4,>=3->streamlit==1.24.0) (5.0.1)\n",
            "Requirement already satisfied: MarkupSafe>=2.0 in ./myenv/lib/python3.10/site-packages (from jinja2->altair<6,>=4.0->streamlit==1.24.0) (3.0.2)\n",
            "Requirement already satisfied: attrs>=22.2.0 in ./myenv/lib/python3.10/site-packages (from jsonschema>=3.0->altair<6,>=4.0->streamlit==1.24.0) (24.2.0)\n",
            "Requirement already satisfied: jsonschema-specifications>=2023.03.6 in ./myenv/lib/python3.10/site-packages (from jsonschema>=3.0->altair<6,>=4.0->streamlit==1.24.0) (2024.10.1)\n",
            "Requirement already satisfied: referencing>=0.28.4 in ./myenv/lib/python3.10/site-packages (from jsonschema>=3.0->altair<6,>=4.0->streamlit==1.24.0) (0.35.1)\n",
            "Requirement already satisfied: rpds-py>=0.7.1 in ./myenv/lib/python3.10/site-packages (from jsonschema>=3.0->altair<6,>=4.0->streamlit==1.24.0) (0.20.0)\n",
            "Requirement already satisfied: mdurl~=0.1 in ./myenv/lib/python3.10/site-packages (from markdown-it-py>=2.2.0->rich<14,>=10.11.0->streamlit==1.24.0) (0.1.2)\n"
          ]
        }
      ]
    },
    {
      "cell_type": "code",
      "source": [
        "!myenv/bin/pip install scikit-learn==1.5.2"
      ],
      "metadata": {
        "colab": {
          "base_uri": "https://localhost:8080/"
        },
        "id": "lvmqa2DyL78v",
        "outputId": "f24efe6d-7536-4c23-95b1-9098b2bb937e"
      },
      "execution_count": 92,
      "outputs": [
        {
          "output_type": "stream",
          "name": "stdout",
          "text": [
            "Collecting scikit-learn==1.5.2\n",
            "  Using cached scikit_learn-1.5.2-cp310-cp310-manylinux_2_17_x86_64.manylinux2014_x86_64.whl.metadata (13 kB)\n",
            "Requirement already satisfied: numpy>=1.19.5 in ./myenv/lib/python3.10/site-packages (from scikit-learn==1.5.2) (1.25.0)\n",
            "Requirement already satisfied: scipy>=1.6.0 in ./myenv/lib/python3.10/site-packages (from scikit-learn==1.5.2) (1.14.1)\n",
            "Requirement already satisfied: joblib>=1.2.0 in ./myenv/lib/python3.10/site-packages (from scikit-learn==1.5.2) (1.4.2)\n",
            "Requirement already satisfied: threadpoolctl>=3.1.0 in ./myenv/lib/python3.10/site-packages (from scikit-learn==1.5.2) (3.5.0)\n",
            "Using cached scikit_learn-1.5.2-cp310-cp310-manylinux_2_17_x86_64.manylinux2014_x86_64.whl (13.3 MB)\n",
            "Installing collected packages: scikit-learn\n",
            "  Attempting uninstall: scikit-learn\n",
            "    Found existing installation: scikit-learn 1.3.0\n",
            "    Uninstalling scikit-learn-1.3.0:\n",
            "      Successfully uninstalled scikit-learn-1.3.0\n",
            "Successfully installed scikit-learn-1.5.2\n"
          ]
        }
      ]
    },
    {
      "cell_type": "code",
      "source": [
        "%%writefile app.py\n",
        "import streamlit as st\n",
        "import pandas as pd\n",
        "from sklearn.preprocessing import OneHotEncoder\n",
        "import pickle\n",
        "import numpy as np\n",
        "import datetime\n",
        "\n",
        "# Load your data (for dropdown options)\n",
        "data = pd.read_csv(\"/content/airway data entry.TRANSFORM.1.csv\")\n",
        "\n",
        "# Define unique values for dropdown options (limited to specified columns)\n",
        "surgical_resection_options = data[\"surgical_resection\"].unique()\n",
        "neck_dissection_options = data[\"neck_dissection\"].unique()\n",
        "diagnosis_options = data[\"diagnosis\"].unique()\n",
        "medical_comorbidities_options = data[\"medical_comorbidities\"].unique()\n",
        "sex_options = [\"M\", \"F\"]  # Assuming binary options for sex\n",
        "previous_surgery_options = [\"Yes\", \"No\"]\n",
        "RT_options = [\"Yes\", \"No\"]\n",
        "CT_options = [\"Yes\", \"No\"]\n",
        "\n",
        "# Load the saved model and encoder\n",
        "model = pickle.load(open(\"extubation_prediction_model.sav\", \"rb\"))\n",
        "encoder = pickle.load(open(\"one_hot_encoder.sav\", \"rb\"))\n",
        "\n",
        "# Create Streamlit app\n",
        "st.title(\"Extubation Prediction\")\n",
        "\n",
        "# Input features using dropdowns (including all categorical variables)\n",
        "surgical_resection = st.selectbox(\"surgical resection\", surgical_resection_options)\n",
        "neck_dissection = st.selectbox(\"neck dissection\", neck_dissection_options)\n",
        "diagnosis = st.selectbox(\"diagnosis\", diagnosis_options)\n",
        "medical_comorbidities = st.selectbox(\"medical comorbidities\", medical_comorbidities_options)\n",
        "sex = st.selectbox(\"sex (M/F)\", sex_options)\n",
        "previous_surgery = st.selectbox(\"previous surgery (Yes/No)\", previous_surgery_options)\n",
        "MPG = st.number_input(\"MPG\", min_value=0)  # Assuming MPG can be zero or positive\n",
        "rt = st.selectbox(\"RT (Yes/No)\", RT_options)\n",
        "ct = st.selectbox(\"CT (Yes/No)\", CT_options)\n",
        "\n",
        "# Prediction logic\n",
        "if st.button(\"Predict\"):\n",
        "    # Create input features as a list (including all features)\n",
        "    input_features = [\n",
        "        sex,\n",
        "        surgical_resection,\n",
        "        neck_dissection,\n",
        "        diagnosis,\n",
        "        medical_comorbidities,\n",
        "        previous_surgery,\n",
        "        MPG,\n",
        "        rt,\n",
        "        ct,\n",
        "    ]\n",
        "\n",
        "    # One-hot encode categorical features\n",
        "    encoded_features = encoder.transform([input_features])\n",
        "\n",
        "    # Check if the result is a sparse matrix and convert to array if necessary\n",
        "    if hasattr(encoded_features, 'toarray'):\n",
        "        encoded_features = encoded_features.toarray()\n",
        "\n",
        "    # Make prediction\n",
        "    prediction = model.predict(encoded_features)[0]\n",
        "\n",
        "    # Display prediction with proper labeling\n",
        "    outcome_label = \"Immediate\" if prediction == 1 else \"Delay\"\n",
        "    st.write(f\"Prediction: {outcome_label} (Value: {prediction})\")\n"
      ],
      "metadata": {
        "colab": {
          "base_uri": "https://localhost:8080/"
        },
        "id": "YTIuRCTomA3x",
        "outputId": "146aae50-72a3-4c77-8b78-fe4c2d0d3e6b"
      },
      "execution_count": 106,
      "outputs": [
        {
          "output_type": "stream",
          "name": "stdout",
          "text": [
            "Overwriting app.py\n"
          ]
        }
      ]
    },
    {
      "cell_type": "code",
      "source": [
        "!myenv/bin/streamlit run app.py &"
      ],
      "metadata": {
        "colab": {
          "base_uri": "https://localhost:8080/"
        },
        "id": "sR7A1KNvmySl",
        "outputId": "19f27001-1140-4e16-d5cc-fde109a15ed2"
      },
      "execution_count": 118,
      "outputs": [
        {
          "output_type": "stream",
          "name": "stdout",
          "text": [
            "\n",
            "Collecting usage statistics. To deactivate, set browser.gatherUsageStats to False.\n",
            "\u001b[0m\n",
            "\u001b[0m\n",
            "\u001b[34m\u001b[1m  You can now view your Streamlit app in your browser.\u001b[0m\n",
            "\u001b[0m\n",
            "\u001b[34m  Network URL: \u001b[0m\u001b[1mhttp://172.28.0.12:8501\u001b[0m\n",
            "\u001b[34m  External URL: \u001b[0m\u001b[1mhttp://34.82.113.84:8501\u001b[0m\n",
            "\u001b[0m\n",
            "/content/myenv/lib/python3.10/site-packages/sklearn/base.py:493: UserWarning: X does not have valid feature names, but OneHotEncoder was fitted with feature names\n",
            "  warnings.warn(\n",
            "/content/myenv/lib/python3.10/site-packages/sklearn/base.py:493: UserWarning: X does not have valid feature names, but RandomForestClassifier was fitted with feature names\n",
            "  warnings.warn(\n",
            "\u001b[34m  Stopping...\u001b[0m\n"
          ]
        }
      ]
    },
    {
      "cell_type": "code",
      "source": [
        "!./ngrok authtoken '2npARY7vDUBNIijzBPOm7NFjTym_5pG1eUMyBtisH8ua65ThR'  # Replace with your actual token from Ngrok account"
      ],
      "metadata": {
        "colab": {
          "base_uri": "https://localhost:8080/"
        },
        "id": "oz3Af2t7o8zw",
        "outputId": "8bf203ec-a3bd-40a5-e56d-d2db48d97679"
      },
      "execution_count": 115,
      "outputs": [
        {
          "output_type": "stream",
          "name": "stdout",
          "text": [
            "Authtoken saved to configuration file: /root/.config/ngrok/ngrok.yml\n"
          ]
        }
      ]
    },
    {
      "cell_type": "code",
      "source": [
        "!chmod +x ngrok"
      ],
      "metadata": {
        "id": "qeEEbjb8wKAb"
      },
      "execution_count": 116,
      "outputs": []
    },
    {
      "cell_type": "code",
      "source": [
        "public_url = ngrok.connect(addr=\"8501\")\n",
        "print(f\"Public URL: {public_url}\")"
      ],
      "metadata": {
        "colab": {
          "base_uri": "https://localhost:8080/"
        },
        "id": "4AJU5Cf0xxkK",
        "outputId": "afbd2e33-1dfe-4a4e-f89d-be7904ee9978"
      },
      "execution_count": 117,
      "outputs": [
        {
          "output_type": "stream",
          "name": "stderr",
          "text": [
            "WARNING:pyngrok.process.ngrok:t=2024-10-23T07:38:44+0000 lvl=warn msg=\"ngrok config file found at both XDG and legacy locations, using XDG location\" xdg_path=/root/.config/ngrok/ngrok.yml legacy_path=/root/.ngrok2/ngrok.yml\n"
          ]
        },
        {
          "output_type": "stream",
          "name": "stdout",
          "text": [
            "Public URL: NgrokTunnel: \"https://60ff-34-82-113-84.ngrok-free.app\" -> \"http://localhost:8501\"\n"
          ]
        }
      ]
    },
    {
      "cell_type": "code",
      "source": [
        "%%writefile app.py\n",
        "import streamlit as st\n",
        "import pandas as pd\n",
        "from sklearn.preprocessing import OneHotEncoder\n",
        "import pickle\n",
        "import numpy as np\n",
        "\n",
        "# Load your data (for dropdown options)\n",
        "data = pd.read_csv(\"/content/airway data entry.TRANSFORM.1.csv\")\n",
        "\n",
        "# Define unique values for dropdown options (limited to specified columns)\n",
        "surgical_resection_options = data[\"surgical_resection\"].unique()\n",
        "neck_dissection_options = data[\"neck_dissection\"].unique()\n",
        "diagnosis_options = data[\"diagnosis\"].unique()\n",
        "medical_comorbidities_options = data[\"medical_comorbidities\"].unique()\n",
        "sex_options = [\"M\", \"F\"]  # Assuming binary options for sex\n",
        "previous_surgery_options = [\"Yes\", \"No\"]\n",
        "RT_options = [\"Yes\", \"No\"]\n",
        "CT_options = [\"Yes\", \"No\"]\n",
        "\n",
        "# Load the saved model and encoder\n",
        "model = pickle.load(open(\"extubation_prediction_model.sav\", \"rb\"))\n",
        "encoder = pickle.load(open(\"one_hot_encoder.sav\", \"rb\"))\n",
        "\n",
        "# Create Streamlit app\n",
        "st.title(\"Extubation Prediction\")\n",
        "\n",
        "# Input features using dropdowns (including all categorical variables)\n",
        "surgical_resection = st.selectbox(\"Surgical Resection\", surgical_resection_options)\n",
        "neck_dissection = st.selectbox(\"Neck Dissection\", neck_dissection_options)\n",
        "diagnosis = st.selectbox(\"Diagnosis\", diagnosis_options)\n",
        "medical_comorbidities = st.selectbox(\"Medical Comorbidities\", medical_comorbidities_options)\n",
        "sex = st.selectbox(\"Sex (M/F)\", sex_options)\n",
        "previous_surgery = st.selectbox(\"Previous Surgery (Yes/No)\", previous_surgery_options)\n",
        "MPG = st.number_input(\"MPG\", min_value=0)  # Assuming MPG can be zero or positive\n",
        "rt = st.selectbox(\"RT (Yes/No)\", RT_options)\n",
        "ct = st.selectbox(\"CT (Yes/No)\", CT_options)\n",
        "\n",
        "# Prediction logic\n",
        "if st.button(\"Predict\"):\n",
        "    # Create input features as a list (including all features)\n",
        "    input_features = [\n",
        "        sex,\n",
        "        surgical_resection,\n",
        "        neck_dissection,\n",
        "        diagnosis,\n",
        "        medical_comorbidities,\n",
        "        previous_surgery,\n",
        "        MPG,\n",
        "        rt,\n",
        "        ct,\n",
        "    ]\n",
        "\n",
        "    # One-hot encode categorical features\n",
        "    encoded_features = encoder.transform([input_features])\n",
        "\n",
        "    # Check if the result is a sparse matrix and convert to array if necessary\n",
        "    if hasattr(encoded_features, 'toarray'):\n",
        "        encoded_features = encoded_features.toarray()\n",
        "\n",
        "    # Make prediction\n",
        "    prediction = model.predict(encoded_features)[0]\n",
        "\n",
        "    # Display prediction with proper labeling\n",
        "    outcome_label = \"Immediate\" if prediction == 1 else \"Delay\"\n",
        "    st.write(f\"Prediction: {outcome_label} (Value: {prediction})\")"
      ],
      "metadata": {
        "colab": {
          "base_uri": "https://localhost:8080/"
        },
        "id": "ftHq_bBqTiHb",
        "outputId": "a2461425-ee8e-46d7-d350-18fb369960df"
      },
      "execution_count": 113,
      "outputs": [
        {
          "output_type": "stream",
          "name": "stdout",
          "text": [
            "Overwriting app.py\n"
          ]
        }
      ]
    }
  ]
}