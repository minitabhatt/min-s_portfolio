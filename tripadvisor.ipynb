{
 "cells": [
  {
   "cell_type": "raw",
   "id": "1afe5848",
   "metadata": {},
   "source": [
    "import pandas as pd\n",
    "import matplotlib.pyplot as plt\n",
    "import seaborn as sns"
   ]
  },
  {
   "cell_type": "code",
   "execution_count": null,
   "id": "1fcd6d7c",
   "metadata": {
    "vscode": {
     "languageId": "python"
    }
   },
   "outputs": [],
   "source": [
    "# Assuming the dataset is saved as a CSV file named 'D:\\USERS\\HP\\Desktop\\trip advisor\\tripadvisor.csv'\n",
    "df = pd.read_csv('advertising_data.csv')\n"
   ]
  },
  {
   "cell_type": "code",
   "execution_count": null,
   "id": "b5c1dc66",
   "metadata": {
    "vscode": {
     "languageId": "python"
    }
   },
   "outputs": [],
   "source": [
    "# Calculate mean, median, and standard deviation for relevant columns\n",
    "basic_stats = df[['Impressions', 'Clicks', 'Conversions', 'Cost']].describe()\n",
    "print(basic_stats)\n"
   ]
  },
  {
   "cell_type": "code",
   "execution_count": null,
   "id": "573b7676",
   "metadata": {
    "vscode": {
     "languageId": "python"
    }
   },
   "outputs": [],
   "source": [
    "# Create a histogram for impressions\n",
    "plt.figure(figsize=(10, 6))\n",
    "sns.histplot(df['Impressions'], bins=20, kde=True)\n",
    "plt.title('Distribution of Impressions')\n",
    "plt.xlabel('Impressions')\n",
    "plt.ylabel('Frequency')\n",
    "plt.show()\n",
    "# Repeat the same for Clicks, Conversions, and Cost\n"
   ]
  },
  {
   "cell_type": "markdown",
   "id": "82fb7858",
   "metadata": {},
   "source": [
    "Step 1: Calculate Key Performance Indicators (KPIs)\n",
    "Click-Through Rate (CTR):\n",
    "CTR = (Clicks / Impressions) * 100\n",
    "\n",
    "Conversion Rate:\n",
    "Conversion Rate = (Conversions / Clicks) * 100\n",
    "\n",
    "Cost per Conversion:\n",
    "Cost per Conversion = Cost / Conversions"
   ]
  },
  {
   "cell_type": "code",
   "execution_count": null,
   "id": "34b8154e",
   "metadata": {
    "vscode": {
     "languageId": "python"
    }
   },
   "outputs": [],
   "source": [
    "# Calculate KPIs for each campaign\n",
    "df['CTR'] = (df['Clicks'] / df['Impressions']) * 100\n",
    "df['Conversion Rate'] = (df['Conversions'] / df['Clicks']) * 100\n",
    "df['Cost per Conversion'] = df['Cost'] / df['Conversions']\n"
   ]
  },
  {
   "cell_type": "code",
   "execution_count": null,
   "id": "97f8bfdb",
   "metadata": {
    "vscode": {
     "languageId": "python"
    }
   },
   "outputs": [],
   "source": [
    "# Calculate average KPIs for all campaigns\n",
    "avg_kpis = df.groupby('Campaign').agg({\n",
    "    'CTR': 'mean',\n",
    "    'Conversion Rate': 'mean',\n",
    "    'Cost per Conversion': 'mean'\n",
    "}).reset_index()\n",
    "\n",
    "# Identify top-performing campaigns based on CTR, Conversion Rate, and Cost per Conversion\n",
    "top_campaigns_ctr = avg_kpis.sort_values(by='CTR', ascending=False)['Campaign'].head(1).values[0]\n",
    "top_campaigns_conv_rate = avg_kpis.sort_values(by='Conversion Rate', ascending=False)['Campaign'].head(1).values[0]\n",
    "top_campaigns_cost_conv = avg_kpis.sort_values(by='Cost per Conversion', ascending=True)['Campaign'].head(1).values[0]\n",
    "\n",
    "# Identify underperforming campaigns based on CTR, Conversion Rate, and Cost per Conversion\n",
    "underperforming_campaigns_ctr = avg_kpis.sort_values(by='CTR', ascending=True)['Campaign'].head(1).values[0]\n",
    "underperforming_campaigns_conv_rate = avg_kpis.sort_values(by='Conversion Rate', ascending=True)['Campaign'].head(1).values[0]\n",
    "underperforming_campaigns_cost_conv = avg_kpis.sort_values(by='Cost per Conversion', ascending=False)['Campaign'].head(1).values[0]\n",
    "\n",
    "# Print the results\n",
    "print(f\"Top-performing campaign based on CTR: {top_campaigns_ctr}\")\n",
    "print(f\"Top-performing campaign based on Conversion Rate: {top_campaigns_conv_rate}\")\n",
    "print(f\"Top-performing campaign based on Cost per Conversion: {top_campaigns_cost_conv}\")\n",
    "\n",
    "print(f\"Underperforming campaign based on CTR: {underperforming_campaigns_ctr}\")\n",
    "print(f\"Underperforming campaign based on Conversion Rate: {underperforming_campaigns_conv_rate}\")\n",
    "print(f\"Underperforming campaign based on Cost per Conversion: {underperforming_campaigns_cost_conv}\")\n"
   ]
  },
  {
   "cell_type": "code",
   "execution_count": null,
   "id": "60cfd83e",
   "metadata": {
    "vscode": {
     "languageId": "python"
    }
   },
   "outputs": [],
   "source": [
    "# Calculate total spend and conversions for each campaign\n",
    "campaign_spend = df.groupby('Campaign')['Cost'].sum()\n",
    "campaign_conversions = df.groupby('Campaign')['Conversions'].sum()\n",
    "\n",
    "# Calculate cost per conversion for each campaign\n",
    "cost_per_conversion = campaign_spend / campaign_conversions\n",
    "\n",
    "# Identify top-performing campaigns\n",
    "top_campaigns = cost_per_conversion.nsmallest(2).index\n",
    "\n",
    "# Calculate total budget\n",
    "total_budget = df['Cost'].sum()\n",
    "\n",
    "# Calculate new budget allocation for top-performing campaigns (50% increase)\n",
    "new_budget_allocation = (campaign_spend[top_campaigns] / total_budget) * 1.5\n",
    "\n",
    "# Generate recommendations\n",
    "recommendations = []\n",
    "for campaign in top_campaigns:\n",
    "    recommendation = f\"Reallocate budget for {campaign} by {new_budget_allocation[campaign]*100:.2f}%\"\n",
    "    recommendations.append(recommendation)\n",
    "\n",
    "print(recommendations)\n"
   ]
  },
  {
   "cell_type": "code",
   "execution_count": null,
   "id": "0086134e",
   "metadata": {
    "vscode": {
     "languageId": "python"
    }
   },
   "outputs": [],
   "source": [
    "# Assuming you have ad creative performance data\n",
    "# For example, ad_creative_data is a DataFrame with columns 'Ad_ID', 'Clicks', 'Conversions'\n",
    "\n",
    "# Calculate average clicks and conversions for each ad creative\n",
    "ad_creative_performance = ad_creative_data.groupby('Ad_ID').agg({\n",
    "    'Clicks': 'mean',\n",
    "    'Conversions': 'mean'\n",
    "}).reset_index()\n",
    "\n",
    "# Identify top-performing ad creatives\n",
    "top_ad_creatives = ad_creative_performance.nlargest(2, 'Conversions')['Ad_ID']\n",
    "\n",
    "# Generate recommendations\n",
    "for ad_id in top_ad_creatives:\n",
    "    recommendation = f\"Improve ad creative {ad_id} to increase conversions\"\n",
    "    recommendations.append(recommendation)\n",
    "\n",
    "print(recommendations)\n"
   ]
  },
  {
   "cell_type": "code",
   "execution_count": null,
   "id": "bb3b7b46",
   "metadata": {
    "vscode": {
     "languageId": "python"
    }
   },
   "outputs": [],
   "source": [
    "# Assuming you have audience segment performance data\n",
    "# For example, audience_segment_data is a DataFrame with columns 'Segment_ID', 'Clicks', 'Conversions'\n",
    "\n",
    "# Calculate average clicks and conversions for each audience segment\n",
    "audience_segment_performance = audience_segment_data.groupby('Segment_ID').agg({\n",
    "    'Clicks': 'mean',\n",
    "    'Conversions': 'mean'\n",
    "}).reset_index()\n",
    "\n",
    "# Identify top-performing audience segments\n",
    "top_audience_segments = audience_segment_performance.nlargest(2, 'Conversions')['Segment_ID']\n",
    "\n",
    "# Generate recommendations\n",
    "for segment_id in top_audience_segments:\n",
    "    recommendation = f\"Target audience segment {segment_id} to increase conversions\"\n",
    "    recommendations.append(recommendation)\n",
    "\n",
    "print(recommendations)\n"
   ]
  },
  {
   "cell_type": "code",
   "execution_count": null,
   "id": "910e2d26",
   "metadata": {
    "vscode": {
     "languageId": "python"
    }
   },
   "outputs": [],
   "source": [
    "# Visualize the distribution of Impressions, Clicks, Conversions, and Cost\n",
    "plt.figure(figsize=(15, 10))\n",
    "plt.subplot(2, 2, 1)\n",
    "sns.histplot(df['Impressions'], bins=20, kde=True)\n",
    "plt.title('Distribution of Impressions')\n",
    "\n",
    "plt.subplot(2, 2, 2)\n",
    "sns.histplot(df['Clicks'], bins=20, kde=True)\n",
    "plt.title('Distribution of Clicks')\n",
    "\n",
    "plt.subplot(2, 2, 3)\n",
    "sns.histplot(df['Conversions'], bins=20, kde=True)\n",
    "plt.title('Distribution of Conversions')\n",
    "\n",
    "plt.subplot(2, 2, 4)\n",
    "sns.histplot(df['Cost'], bins=20, kde=True)\n",
    "plt.title('Distribution of Cost')\n",
    "\n",
    "plt.tight_layout()\n",
    "plt.show()\n",
    "\n",
    "# Create a pairplot to explore relationships between Impressions, Clicks, Conversions, and Cost\n",
    "sns.pairplot(df[['Impressions', 'Clicks', 'Conversions', 'Cost']])\n",
    "plt.show()\n"
   ]
  },
  {
   "cell_type": "code",
   "execution_count": null,
   "id": "b1fac05a",
   "metadata": {
    "vscode": {
     "languageId": "python"
    }
   },
   "outputs": [],
   "source": [
    "report = \"\"\"\n",
    "**Campaign Performance Analysis Report**\n",
    "\n",
    "1. **Key Performance Indicators (KPIs):**\n",
    "   - Average Click-Through Rate (CTR): {mean_ctr:.2f}%\n",
    "   - Average Conversion Rate: {mean_conversion_rate:.2f}%\n",
    "   - Average Cost per Conversion: ${mean_cost_per_conversion:.2f}\n",
    "\n",
    "2. **Top-Performing Campaigns:**\n",
    "   - Based on CTR: {top_campaigns_ctr}\n",
    "   - Based on Conversion Rate: {top_campaigns_conversion_rate}\n",
    "   - Based on Cost per Conversion: {top_campaigns_cost_per_conversion}\n",
    "\n",
    "3. **Recommendations:**\n",
    "   - Reallocate budget to top-performing campaigns.\n",
    "   - Improve ad creatives for better performance.\n",
    "   - Target specific audience segments to increase conversions.\n",
    "\n",
    "4. **Visualization:**\n",
    "   - Distribution of Impressions, Clicks, Conversions, and Cost.\n",
    "   - Pairplot showing relationships between variables.\n",
    "\n",
    "\"\"\"\n",
    "\n",
    "# Calculate KPIs\n",
    "mean_ctr = df['CTR'].mean()\n",
    "mean_conversion_rate = df['Conversion Rate'].mean()\n",
    "mean_cost_per_conversion = df['Cost per Conversion'].mean()\n",
    "\n",
    "# Identify top-performing campaigns\n",
    "top_campaigns_ctr = df.loc[df['CTR'].idxmax()]['Campaign']\n",
    "top_campaigns_conversion_rate = df.loc[df['Conversion Rate'].idxmax()]['Campaign']\n",
    "top_campaigns_cost_per_conversion = df.loc[df['Cost per Conversion'].idxmin()]['Campaign']\n",
    "\n",
    "# Fill in the report template\n",
    "report_formatted = report.format(\n",
    "    mean_ctr=mean_ctr,\n",
    "    mean_conversion_rate=mean_conversion_rate,\n",
    "    mean_cost_per_conversion=mean_cost_per_conversion,\n",
    "    top_campaigns_ctr=top_campaigns_ctr,\n",
    "    top_campaigns_conversion_rate=top_campaigns_conversion_rate,\n",
    "    top_campaigns_cost_per_conversion=top_campaigns_cost_per_conversion\n",
    ")\n",
    "\n",
    "print(report_formatted)\n"
   ]
  }
 ],
 "metadata": {
  "kernelspec": {
   "display_name": "Python 3 (ipykernel)",
   "language": "python",
   "name": "python3"
  }
 },
 "nbformat": 4,
 "nbformat_minor": 5
}
